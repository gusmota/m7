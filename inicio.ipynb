{
 "cells": [
  {
   "cell_type": "code",
   "execution_count": null,
   "metadata": {},
   "outputs": [],
   "source": [
    "# Iniciando mi proyecto de ensamble de modelos\n",
    "\n"
   ]
  }
 ],
 "metadata": {
  "kernelspec": {
   "display_name": "Python 3",
   "language": "python",
   "name": "python3"
  },
  "language_info": {
   "name": "python",
   "version": "3.10.5"
  },
  "orig_nbformat": 4,
  "vscode": {
   "interpreter": {
    "hash": "e4a0d12823592b613e119bea1523fd1b2a3081517ad14b049d850524bd95d677"
   }
  }
 },
 "nbformat": 4,
 "nbformat_minor": 2
}
